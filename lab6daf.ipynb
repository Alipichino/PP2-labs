{
 "cells": [
  {
   "cell_type": "code",
   "execution_count": 1,
   "metadata": {},
   "outputs": [
    {
     "name": "stdout",
     "output_type": "stream",
     "text": [
      "Directories: []\n",
      "Files: ['a.ipynb', 'lab2.ipynb', 'lab3.ipynb', 'lab3functions.ipynb', 'lab4(1).ipynb', 'lab4.ipynb', 'lab5.ipynb', 'lab6b.ipynb', 'lab6daf.ipynb', 'test']\n",
      "All: ['a.ipynb', 'lab2.ipynb', 'lab3.ipynb', 'lab3functions.ipynb', 'lab4(1).ipynb', 'lab4.ipynb', 'lab5.ipynb', 'lab6b.ipynb', 'lab6daf.ipynb', 'test']\n"
     ]
    }
   ],
   "source": [
    "import os\n",
    "\n",
    "path = \".\"  \n",
    "\n",
    "print(\"Directories:\", [d for d in os.listdir(path) if os.path.isdir(os.path.join(path, d))])\n",
    "print(\"Files:\", [f for f in os.listdir(path) if os.path.isfile(os.path.join(path, f))])\n",
    "print(\"All:\", os.listdir(path))"
   ]
  },
  {
   "cell_type": "code",
   "execution_count": 7,
   "metadata": {},
   "outputs": [
    {
     "name": "stdout",
     "output_type": "stream",
     "text": [
      "Exists: False\n",
      "Readable: False\n",
      "Writable: False\n",
      "Executable: False\n"
     ]
    }
   ],
   "source": [
    "import os\n",
    "\n",
    "path = \"example.txt\" \n",
    "print(\"Exists:\", os.path.exists(path))\n",
    "print(\"Readable:\", os.access(path, os.R_OK))\n",
    "print(\"Writable:\", os.access(path, os.W_OK))\n",
    "print(\"Executable:\", os.access(path, os.X_OK))"
   ]
  },
  {
   "cell_type": "code",
   "execution_count": null,
   "metadata": {},
   "outputs": [
    {
     "name": "stdout",
     "output_type": "stream",
     "text": [
      "Path does not exist\n"
     ]
    }
   ],
   "source": [
    "import os\n",
    "\n",
    "path = \"ali.txt \"  \n",
    "\n",
    "if os.path.exists(path):\n",
    "    print(\"File exists\")\n",
    "    print(\"Directory:\", os.path.dirname(path))\n",
    "    print(\"Filename:\", os.path.basename(path))\n",
    "else:\n",
    "    print(\"Path does not exist\")"
   ]
  },
  {
   "cell_type": "code",
   "execution_count": null,
   "metadata": {},
   "outputs": [],
   "source": [
    "file_path = \"ali.txt\"  \n",
    "\n",
    "with open(file_path, \"r\") as file:\n",
    "    line_count = sum(1 for _ in file)\n",
    "\n",
    "print(\"Number of lines:\", line_count)"
   ]
  },
  {
   "cell_type": "code",
   "execution_count": 10,
   "metadata": {},
   "outputs": [],
   "source": [
    "data = [\"Hello\", \"World\", \"Python\"]\n",
    "\n",
    "with open(\"output.txt\", \"w\") as file:\n",
    "    file.writelines(\"\\n\".join(data))"
   ]
  },
  {
   "cell_type": "code",
   "execution_count": null,
   "metadata": {},
   "outputs": [],
   "source": [
    "import string\n",
    "\n",
    "for letter in string.ascii_uppercase:\n",
    "    with open(f\"{letter}.txt\", \"w\") as file:\n",
    "        file.write(f\"File {letter}.txt\")"
   ]
  },
  {
   "cell_type": "code",
   "execution_count": null,
   "metadata": {},
   "outputs": [],
   "source": [
    "src = \"source.txt\"\n",
    "dest = \"destination.txt\"\n",
    "\n",
    "with open(src, \"r\") as source, open(dest, \"w\") as destination:\n",
    "    destination.write(source.read())"
   ]
  },
  {
   "cell_type": "code",
   "execution_count": null,
   "metadata": {},
   "outputs": [],
   "source": [
    "import os\n",
    "\n",
    "file_path = \"file_to_delete.txt\"  # Укажите нужный путь\n",
    "\n",
    "if os.path.exists(file_path) and os.access(file_path, os.W_OK):\n",
    "    os.remove(file_path)\n",
    "    print(\"File deleted\")\n",
    "else:\n",
    "    print(\"Cannot delete file\")"
   ]
  }
 ],
 "metadata": {
  "kernelspec": {
   "display_name": "base",
   "language": "python",
   "name": "python3"
  },
  "language_info": {
   "codemirror_mode": {
    "name": "ipython",
    "version": 3
   },
   "file_extension": ".py",
   "mimetype": "text/x-python",
   "name": "python",
   "nbconvert_exporter": "python",
   "pygments_lexer": "ipython3",
   "version": "3.12.7"
  }
 },
 "nbformat": 4,
 "nbformat_minor": 2
}
